{
 "cells": [
  {
   "cell_type": "markdown",
   "id": "0f55c291",
   "metadata": {},
   "source": [
    "### This file is associated with my research project testing the hypothesis that prescriptive power of non-physicians is associated with more opioid prescriptions. \n",
    "\n",
    "(c) Arsh Singh, Sep 2024"
   ]
  },
  {
   "cell_type": "code",
   "execution_count": 1,
   "id": "09378e4b",
   "metadata": {},
   "outputs": [
    {
     "name": "stdout",
     "output_type": "stream",
     "text": [
      "D:\\arcos_all_washpost\n"
     ]
    }
   ],
   "source": [
    "cd \"D:\\arcos_all_washpost\""
   ]
  },
  {
   "cell_type": "code",
   "execution_count": 2,
   "id": "154c17f9",
   "metadata": {},
   "outputs": [],
   "source": [
    "import pandas as pd"
   ]
  },
  {
   "cell_type": "code",
   "execution_count": 3,
   "id": "e31786b1",
   "metadata": {},
   "outputs": [
    {
     "data": {
      "text/html": [
       "<div>\n",
       "<style scoped>\n",
       "    .dataframe tbody tr th:only-of-type {\n",
       "        vertical-align: middle;\n",
       "    }\n",
       "\n",
       "    .dataframe tbody tr th {\n",
       "        vertical-align: top;\n",
       "    }\n",
       "\n",
       "    .dataframe thead th {\n",
       "        text-align: right;\n",
       "    }\n",
       "</style>\n",
       "<table border=\"1\" class=\"dataframe\">\n",
       "  <thead>\n",
       "    <tr style=\"text-align: right;\">\n",
       "      <th></th>\n",
       "      <th>STATE</th>\n",
       "      <th>year</th>\n",
       "      <th>pop</th>\n",
       "      <th>np</th>\n",
       "      <th>np_no_md</th>\n",
       "      <th>pa</th>\n",
       "      <th>any</th>\n",
       "      <th>hydrocodone</th>\n",
       "      <th>oxycodone</th>\n",
       "      <th>both</th>\n",
       "      <th>hydrocodone_per_cap</th>\n",
       "      <th>oxycodone_per_cap</th>\n",
       "      <th>both_per_cap</th>\n",
       "    </tr>\n",
       "  </thead>\n",
       "  <tbody>\n",
       "    <tr>\n",
       "      <th>0</th>\n",
       "      <td>AK</td>\n",
       "      <td>2006</td>\n",
       "      <td>675302</td>\n",
       "      <td>1</td>\n",
       "      <td>1</td>\n",
       "      <td>1</td>\n",
       "      <td>1</td>\n",
       "      <td>6065725.0</td>\n",
       "      <td>5438505.0</td>\n",
       "      <td>11504230.0</td>\n",
       "      <td>8.982241</td>\n",
       "      <td>8.053441</td>\n",
       "      <td>17.035682</td>\n",
       "    </tr>\n",
       "    <tr>\n",
       "      <th>1</th>\n",
       "      <td>AK</td>\n",
       "      <td>2007</td>\n",
       "      <td>680300</td>\n",
       "      <td>1</td>\n",
       "      <td>1</td>\n",
       "      <td>1</td>\n",
       "      <td>1</td>\n",
       "      <td>6950625.0</td>\n",
       "      <td>6498580.0</td>\n",
       "      <td>13449205.0</td>\n",
       "      <td>10.217000</td>\n",
       "      <td>9.552521</td>\n",
       "      <td>19.769521</td>\n",
       "    </tr>\n",
       "    <tr>\n",
       "      <th>2</th>\n",
       "      <td>AK</td>\n",
       "      <td>2008</td>\n",
       "      <td>687455</td>\n",
       "      <td>1</td>\n",
       "      <td>1</td>\n",
       "      <td>1</td>\n",
       "      <td>1</td>\n",
       "      <td>7258500.0</td>\n",
       "      <td>8066690.0</td>\n",
       "      <td>15325190.0</td>\n",
       "      <td>10.558509</td>\n",
       "      <td>11.734135</td>\n",
       "      <td>22.292645</td>\n",
       "    </tr>\n",
       "    <tr>\n",
       "      <th>3</th>\n",
       "      <td>AK</td>\n",
       "      <td>2009</td>\n",
       "      <td>698895</td>\n",
       "      <td>1</td>\n",
       "      <td>1</td>\n",
       "      <td>1</td>\n",
       "      <td>1</td>\n",
       "      <td>7999000.0</td>\n",
       "      <td>9392000.0</td>\n",
       "      <td>17391000.0</td>\n",
       "      <td>11.445210</td>\n",
       "      <td>13.438356</td>\n",
       "      <td>24.883566</td>\n",
       "    </tr>\n",
       "    <tr>\n",
       "      <th>4</th>\n",
       "      <td>AK</td>\n",
       "      <td>2010</td>\n",
       "      <td>713910</td>\n",
       "      <td>1</td>\n",
       "      <td>1</td>\n",
       "      <td>1</td>\n",
       "      <td>1</td>\n",
       "      <td>7551750.0</td>\n",
       "      <td>9353500.0</td>\n",
       "      <td>16905250.0</td>\n",
       "      <td>10.578014</td>\n",
       "      <td>13.101792</td>\n",
       "      <td>23.679806</td>\n",
       "    </tr>\n",
       "  </tbody>\n",
       "</table>\n",
       "</div>"
      ],
      "text/plain": [
       "  STATE  year     pop  np  np_no_md  pa  any  hydrocodone  oxycodone  \\\n",
       "0    AK  2006  675302   1         1   1    1    6065725.0  5438505.0   \n",
       "1    AK  2007  680300   1         1   1    1    6950625.0  6498580.0   \n",
       "2    AK  2008  687455   1         1   1    1    7258500.0  8066690.0   \n",
       "3    AK  2009  698895   1         1   1    1    7999000.0  9392000.0   \n",
       "4    AK  2010  713910   1         1   1    1    7551750.0  9353500.0   \n",
       "\n",
       "         both  hydrocodone_per_cap  oxycodone_per_cap  both_per_cap  \n",
       "0  11504230.0             8.982241           8.053441     17.035682  \n",
       "1  13449205.0            10.217000           9.552521     19.769521  \n",
       "2  15325190.0            10.558509          11.734135     22.292645  \n",
       "3  17391000.0            11.445210          13.438356     24.883566  \n",
       "4  16905250.0            10.578014          13.101792     23.679806  "
      ]
     },
     "execution_count": 3,
     "metadata": {},
     "output_type": "execute_result"
    }
   ],
   "source": [
    "panel_annual = pd.read_csv('panel_annual.csv')\n",
    "panel_annual.head()"
   ]
  },
  {
   "cell_type": "raw",
   "id": "d08bae15",
   "metadata": {},
   "source": [
    "np_dict={'STATE':['LA','KY','VA','HI'],'np_year':[2006,2007,2007,2009]}\n",
    "np_no_md_dict={'STATE':['AZ','CO','HI','ID','MI','RI','WA','WY','CA','SC'],\n",
    "              'year':[2006,2010,2005,2005,2005,2009,2006,2006,2007,2006]}\n",
    "pa_dict={'STATE':['PA','VA','DC','NY','IL'],\n",
    "         'year':[2007,2007,2007,2008,2010]}"
   ]
  },
  {
   "cell_type": "code",
   "execution_count": 5,
   "id": "5ebd9f89",
   "metadata": {},
   "outputs": [],
   "source": [
    "states = ['AZ','CA','CO','DC','HI','ID','IL','LA', 'MI','NY','KY','RI','PA','VA','WA', 'WY']\n",
    "panel_annual= panel_annual[panel_annual['STATE'].isin(states)]\n",
    "panel_annual = panel_annual.set_index(['STATE', 'year'])"
   ]
  },
  {
   "cell_type": "code",
   "execution_count": 6,
   "id": "76ddf36f",
   "metadata": {},
   "outputs": [],
   "source": [
    "# FE und RE model\n",
    "import statsmodels.api as sm\n",
    "from linearmodels import PanelOLS\n",
    "from linearmodels import RandomEffects"
   ]
  },
  {
   "cell_type": "code",
   "execution_count": 7,
   "id": "6b14afe5",
   "metadata": {},
   "outputs": [
    {
     "name": "stdout",
     "output_type": "stream",
     "text": [
      "                          PanelOLS Estimation Summary                           \n",
      "================================================================================\n",
      "Dep. Variable:           both_per_cap   R-squared:                        0.2143\n",
      "Estimator:                   PanelOLS   R-squared (Between):              0.0056\n",
      "No. Observations:                  73   R-squared (Within):               0.2143\n",
      "Date:                Thu, Sep 12 2024   R-squared (Overall):              0.0833\n",
      "Time:                        13:21:57   Log-likelihood                   -267.22\n",
      "Cov. Estimator:            Unadjusted                                           \n",
      "                                        F-statistic:                      16.093\n",
      "Entities:                          13   P-value                           0.0002\n",
      "Avg Obs:                       5.6154   Distribution:                    F(1,59)\n",
      "Min Obs:                       1.0000                                           \n",
      "Max Obs:                       6.0000   F-statistic (robust):             16.093\n",
      "                                        P-value                           0.0002\n",
      "Time periods:                       6   Distribution:                    F(1,59)\n",
      "Avg Obs:                       12.167                                           \n",
      "Min Obs:                       12.000                                           \n",
      "Max Obs:                       13.000                                           \n",
      "                                                                                \n",
      "                             Parameter Estimates                              \n",
      "==============================================================================\n",
      "            Parameter  Std. Err.     T-stat    P-value    Lower CI    Upper CI\n",
      "------------------------------------------------------------------------------\n",
      "const          45.009     2.9242     15.392     0.0000      39.158      50.860\n",
      "any            14.400     3.5896     4.0116     0.0002      7.2173      21.583\n",
      "==============================================================================\n",
      "\n",
      "F-test for Poolability: 23.610\n",
      "P-value: 0.0000\n",
      "Distribution: F(12,59)\n",
      "\n",
      "Included effects: Entity\n"
     ]
    }
   ],
   "source": [
    "exog_vars=['any']\n",
    "exog = sm.tools.tools.add_constant(panel_annual[exog_vars])\n",
    "endog = panel_annual['both_per_cap']\n",
    "# fixed effects model\n",
    "model_fe = PanelOLS(endog, exog, entity_effects = True) \n",
    "fe_res = model_fe.fit() \n",
    "print(fe_res)"
   ]
  },
  {
   "cell_type": "code",
   "execution_count": 8,
   "id": "9b71932f",
   "metadata": {
    "scrolled": true
   },
   "outputs": [
    {
     "name": "stdout",
     "output_type": "stream",
     "text": [
      "                          PanelOLS Estimation Summary                           \n",
      "================================================================================\n",
      "Dep. Variable:           both_per_cap   R-squared:                        0.1029\n",
      "Estimator:                   PanelOLS   R-squared (Between):             -0.0035\n",
      "No. Observations:                  73   R-squared (Within):               0.1029\n",
      "Date:                Thu, Sep 12 2024   R-squared (Overall):              0.0621\n",
      "Time:                        13:21:57   Log-likelihood                   -272.06\n",
      "Cov. Estimator:            Unadjusted                                           \n",
      "                                        F-statistic:                      6.7659\n",
      "Entities:                          13   P-value                           0.0117\n",
      "Avg Obs:                       5.6154   Distribution:                    F(1,59)\n",
      "Min Obs:                       1.0000                                           \n",
      "Max Obs:                       6.0000   F-statistic (robust):             6.7659\n",
      "                                        P-value                           0.0117\n",
      "Time periods:                       6   Distribution:                    F(1,59)\n",
      "Avg Obs:                       12.167                                           \n",
      "Min Obs:                       12.000                                           \n",
      "Max Obs:                       13.000                                           \n",
      "                                                                                \n",
      "                             Parameter Estimates                              \n",
      "==============================================================================\n",
      "            Parameter  Std. Err.     T-stat    P-value    Lower CI    Upper CI\n",
      "------------------------------------------------------------------------------\n",
      "const          47.324     3.4622     13.668     0.0000      40.396      54.252\n",
      "np             13.231     5.0867     2.6011     0.0117      3.0527      23.410\n",
      "==============================================================================\n",
      "\n",
      "F-test for Poolability: 20.648\n",
      "P-value: 0.0000\n",
      "Distribution: F(12,59)\n",
      "\n",
      "Included effects: Entity\n"
     ]
    }
   ],
   "source": [
    "exog_vars=['np']\n",
    "exog = sm.tools.tools.add_constant(panel_annual[exog_vars])\n",
    "endog = panel_annual['both_per_cap']\n",
    "# fixed effects model\n",
    "model_fe = PanelOLS(endog, exog, entity_effects = True) \n",
    "fe_res = model_fe.fit() \n",
    "print(fe_res)"
   ]
  },
  {
   "cell_type": "code",
   "execution_count": 9,
   "id": "9319270c",
   "metadata": {},
   "outputs": [
    {
     "name": "stdout",
     "output_type": "stream",
     "text": [
      "                          PanelOLS Estimation Summary                           \n",
      "================================================================================\n",
      "Dep. Variable:           both_per_cap   R-squared:                        0.1239\n",
      "Estimator:                   PanelOLS   R-squared (Between):              0.1305\n",
      "No. Observations:                  73   R-squared (Within):               0.1239\n",
      "Date:                Thu, Sep 12 2024   R-squared (Overall):              0.1281\n",
      "Time:                        13:21:57   Log-likelihood                   -271.20\n",
      "Cov. Estimator:            Unadjusted                                           \n",
      "                                        F-statistic:                      8.3442\n",
      "Entities:                          13   P-value                           0.0054\n",
      "Avg Obs:                       5.6154   Distribution:                    F(1,59)\n",
      "Min Obs:                       1.0000                                           \n",
      "Max Obs:                       6.0000   F-statistic (robust):             8.3442\n",
      "                                        P-value                           0.0054\n",
      "Time periods:                       6   Distribution:                    F(1,59)\n",
      "Avg Obs:                       12.167                                           \n",
      "Min Obs:                       12.000                                           \n",
      "Max Obs:                       13.000                                           \n",
      "                                                                                \n",
      "                             Parameter Estimates                              \n",
      "==============================================================================\n",
      "            Parameter  Std. Err.     T-stat    P-value    Lower CI    Upper CI\n",
      "------------------------------------------------------------------------------\n",
      "const          52.619     1.6680     31.546     0.0000      49.281      55.956\n",
      "np_no_md       20.190     6.9894     2.8886     0.0054      6.2041      34.175\n",
      "==============================================================================\n",
      "\n",
      "F-test for Poolability: 19.340\n",
      "P-value: 0.0000\n",
      "Distribution: F(12,59)\n",
      "\n",
      "Included effects: Entity\n"
     ]
    }
   ],
   "source": [
    "exog_vars=['np_no_md']\n",
    "exog = sm.tools.tools.add_constant(panel_annual[exog_vars])\n",
    "endog = panel_annual['both_per_cap']\n",
    "# fixed effects model\n",
    "model_fe = PanelOLS(endog, exog, entity_effects = True) \n",
    "fe_res = model_fe.fit() \n",
    "print(fe_res)"
   ]
  },
  {
   "cell_type": "code",
   "execution_count": 10,
   "id": "ec0f27b0",
   "metadata": {
    "scrolled": true
   },
   "outputs": [
    {
     "name": "stdout",
     "output_type": "stream",
     "text": [
      "                          PanelOLS Estimation Summary                           \n",
      "================================================================================\n",
      "Dep. Variable:           both_per_cap   R-squared:                        0.0941\n",
      "Estimator:                   PanelOLS   R-squared (Between):             -0.1114\n",
      "No. Observations:                  73   R-squared (Within):               0.0941\n",
      "Date:                Thu, Sep 12 2024   R-squared (Overall):             -0.0258\n",
      "Time:                        13:21:57   Log-likelihood                   -272.42\n",
      "Cov. Estimator:            Unadjusted                                           \n",
      "                                        F-statistic:                      6.1255\n",
      "Entities:                          13   P-value                           0.0162\n",
      "Avg Obs:                       5.6154   Distribution:                    F(1,59)\n",
      "Min Obs:                       1.0000                                           \n",
      "Max Obs:                       6.0000   F-statistic (robust):             6.1255\n",
      "                                        P-value                           0.0162\n",
      "Time periods:                       6   Distribution:                    F(1,59)\n",
      "Avg Obs:                       12.167                                           \n",
      "Min Obs:                       12.000                                           \n",
      "Max Obs:                       13.000                                           \n",
      "                                                                                \n",
      "                             Parameter Estimates                              \n",
      "==============================================================================\n",
      "            Parameter  Std. Err.     T-stat    P-value    Lower CI    Upper CI\n",
      "------------------------------------------------------------------------------\n",
      "const          49.357     2.8668     17.217     0.0000      43.620      55.093\n",
      "pa             12.439     5.0257     2.4750     0.0162      2.3821      22.495\n",
      "==============================================================================\n",
      "\n",
      "F-test for Poolability: 21.906\n",
      "P-value: 0.0000\n",
      "Distribution: F(12,59)\n",
      "\n",
      "Included effects: Entity\n"
     ]
    }
   ],
   "source": [
    "exog_vars=['pa']\n",
    "exog = sm.tools.tools.add_constant(panel_annual[exog_vars])\n",
    "endog = panel_annual['both_per_cap']\n",
    "# fixed effects model\n",
    "model_fe = PanelOLS(endog, exog, entity_effects = True) \n",
    "fe_res = model_fe.fit() \n",
    "print(fe_res)"
   ]
  },
  {
   "cell_type": "code",
   "execution_count": 11,
   "id": "151d4c4c",
   "metadata": {},
   "outputs": [
    {
     "name": "stdout",
     "output_type": "stream",
     "text": [
      "                          PanelOLS Estimation Summary                           \n",
      "================================================================================\n",
      "Dep. Variable:           both_per_cap   R-squared:                        0.2789\n",
      "Estimator:                   PanelOLS   R-squared (Between):             -0.0529\n",
      "No. Observations:                  73   R-squared (Within):               0.2789\n",
      "Date:                Thu, Sep 12 2024   R-squared (Overall):              0.0593\n",
      "Time:                        13:21:57   Log-likelihood                   -264.09\n",
      "Cov. Estimator:            Unadjusted                                           \n",
      "                                        F-statistic:                      7.3479\n",
      "Entities:                          13   P-value                           0.0003\n",
      "Avg Obs:                       5.6154   Distribution:                    F(3,57)\n",
      "Min Obs:                       1.0000                                           \n",
      "Max Obs:                       6.0000   F-statistic (robust):             7.3479\n",
      "                                        P-value                           0.0003\n",
      "Time periods:                       6   Distribution:                    F(3,57)\n",
      "Avg Obs:                       12.167                                           \n",
      "Min Obs:                       12.000                                           \n",
      "Max Obs:                       13.000                                           \n",
      "                                                                                \n",
      "                             Parameter Estimates                              \n",
      "==============================================================================\n",
      "            Parameter  Std. Err.     T-stat    P-value    Lower CI    Upper CI\n",
      "------------------------------------------------------------------------------\n",
      "const          41.078     3.6619     11.218     0.0000      33.746      48.411\n",
      "np             10.578     4.8205     2.1944     0.0323      0.9251      20.231\n",
      "np_no_md       20.190     6.4514     3.1295     0.0028      7.2710      33.109\n",
      "pa             9.6178     4.7395     2.0293     0.0471      0.1271      19.108\n",
      "==============================================================================\n",
      "\n",
      "F-test for Poolability: 22.685\n",
      "P-value: 0.0000\n",
      "Distribution: F(12,57)\n",
      "\n",
      "Included effects: Entity\n"
     ]
    }
   ],
   "source": [
    "exog_vars=['np', 'np_no_md','pa']\n",
    "exog = sm.tools.tools.add_constant(panel_annual[exog_vars])\n",
    "endog = panel_annual['both_per_cap']\n",
    "# fixed effects model\n",
    "model_fe = PanelOLS(endog, exog, entity_effects = True) \n",
    "fe_res = model_fe.fit() \n",
    "print(fe_res)"
   ]
  }
 ],
 "metadata": {
  "kernelspec": {
   "display_name": "Python 3 (ipykernel)",
   "language": "python",
   "name": "python3"
  },
  "language_info": {
   "codemirror_mode": {
    "name": "ipython",
    "version": 3
   },
   "file_extension": ".py",
   "mimetype": "text/x-python",
   "name": "python",
   "nbconvert_exporter": "python",
   "pygments_lexer": "ipython3",
   "version": "3.7.16"
  }
 },
 "nbformat": 4,
 "nbformat_minor": 5
}
